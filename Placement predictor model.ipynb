{
 "cells": [
  {
   "cell_type": "markdown",
   "id": "543adffb",
   "metadata": {},
   "source": [
    "## Starting 100 Days of ML !!"
   ]
  },
  {
   "cell_type": "code",
   "execution_count": 1,
   "id": "87c84023",
   "metadata": {},
   "outputs": [],
   "source": [
    "import pandas as pd"
   ]
  },
  {
   "cell_type": "code",
   "execution_count": 63,
   "id": "00cb60a1",
   "metadata": {},
   "outputs": [],
   "source": [
    "df = pd.read_csv('placement.csv')"
   ]
  },
  {
   "cell_type": "code",
   "execution_count": 68,
   "id": "f483b21d",
   "metadata": {},
   "outputs": [
    {
     "data": {
      "text/html": [
       "<div>\n",
       "<style scoped>\n",
       "    .dataframe tbody tr th:only-of-type {\n",
       "        vertical-align: middle;\n",
       "    }\n",
       "\n",
       "    .dataframe tbody tr th {\n",
       "        vertical-align: top;\n",
       "    }\n",
       "\n",
       "    .dataframe thead th {\n",
       "        text-align: right;\n",
       "    }\n",
       "</style>\n",
       "<table border=\"1\" class=\"dataframe\">\n",
       "  <thead>\n",
       "    <tr style=\"text-align: right;\">\n",
       "      <th></th>\n",
       "      <th>cgpa</th>\n",
       "      <th>iq</th>\n",
       "      <th>placed</th>\n",
       "    </tr>\n",
       "  </thead>\n",
       "  <tbody>\n",
       "    <tr>\n",
       "      <th>0</th>\n",
       "      <td>5.97</td>\n",
       "      <td>106</td>\n",
       "      <td>0</td>\n",
       "    </tr>\n",
       "    <tr>\n",
       "      <th>1</th>\n",
       "      <td>6.83</td>\n",
       "      <td>113</td>\n",
       "      <td>0</td>\n",
       "    </tr>\n",
       "    <tr>\n",
       "      <th>2</th>\n",
       "      <td>6.60</td>\n",
       "      <td>110</td>\n",
       "      <td>0</td>\n",
       "    </tr>\n",
       "    <tr>\n",
       "      <th>3</th>\n",
       "      <td>5.54</td>\n",
       "      <td>113</td>\n",
       "      <td>0</td>\n",
       "    </tr>\n",
       "    <tr>\n",
       "      <th>4</th>\n",
       "      <td>6.84</td>\n",
       "      <td>102</td>\n",
       "      <td>0</td>\n",
       "    </tr>\n",
       "  </tbody>\n",
       "</table>\n",
       "</div>"
      ],
      "text/plain": [
       "   cgpa   iq  placed\n",
       "0  5.97  106       0\n",
       "1  6.83  113       0\n",
       "2  6.60  110       0\n",
       "3  5.54  113       0\n",
       "4  6.84  102       0"
      ]
     },
     "execution_count": 68,
     "metadata": {},
     "output_type": "execute_result"
    }
   ],
   "source": [
    "df.head()"
   ]
  },
  {
   "cell_type": "code",
   "execution_count": 65,
   "id": "caf34ff4",
   "metadata": {},
   "outputs": [
    {
     "data": {
      "text/plain": [
       "(300, 4)"
      ]
     },
     "execution_count": 65,
     "metadata": {},
     "output_type": "execute_result"
    }
   ],
   "source": [
    "df.shape"
   ]
  },
  {
   "cell_type": "code",
   "execution_count": 66,
   "id": "d8987c2e",
   "metadata": {},
   "outputs": [],
   "source": [
    "df = df.iloc[:, [0,1,3]]"
   ]
  },
  {
   "cell_type": "code",
   "execution_count": 69,
   "id": "dccddc12",
   "metadata": {},
   "outputs": [
    {
     "data": {
      "text/html": [
       "<div>\n",
       "<style scoped>\n",
       "    .dataframe tbody tr th:only-of-type {\n",
       "        vertical-align: middle;\n",
       "    }\n",
       "\n",
       "    .dataframe tbody tr th {\n",
       "        vertical-align: top;\n",
       "    }\n",
       "\n",
       "    .dataframe thead th {\n",
       "        text-align: right;\n",
       "    }\n",
       "</style>\n",
       "<table border=\"1\" class=\"dataframe\">\n",
       "  <thead>\n",
       "    <tr style=\"text-align: right;\">\n",
       "      <th></th>\n",
       "      <th>cgpa</th>\n",
       "      <th>iq</th>\n",
       "      <th>placed</th>\n",
       "    </tr>\n",
       "  </thead>\n",
       "  <tbody>\n",
       "    <tr>\n",
       "      <th>0</th>\n",
       "      <td>5.97</td>\n",
       "      <td>106</td>\n",
       "      <td>0</td>\n",
       "    </tr>\n",
       "    <tr>\n",
       "      <th>1</th>\n",
       "      <td>6.83</td>\n",
       "      <td>113</td>\n",
       "      <td>0</td>\n",
       "    </tr>\n",
       "    <tr>\n",
       "      <th>2</th>\n",
       "      <td>6.60</td>\n",
       "      <td>110</td>\n",
       "      <td>0</td>\n",
       "    </tr>\n",
       "    <tr>\n",
       "      <th>3</th>\n",
       "      <td>5.54</td>\n",
       "      <td>113</td>\n",
       "      <td>0</td>\n",
       "    </tr>\n",
       "    <tr>\n",
       "      <th>4</th>\n",
       "      <td>6.84</td>\n",
       "      <td>102</td>\n",
       "      <td>0</td>\n",
       "    </tr>\n",
       "  </tbody>\n",
       "</table>\n",
       "</div>"
      ],
      "text/plain": [
       "   cgpa   iq  placed\n",
       "0  5.97  106       0\n",
       "1  6.83  113       0\n",
       "2  6.60  110       0\n",
       "3  5.54  113       0\n",
       "4  6.84  102       0"
      ]
     },
     "execution_count": 69,
     "metadata": {},
     "output_type": "execute_result"
    }
   ],
   "source": [
    "df.head()"
   ]
  },
  {
   "cell_type": "markdown",
   "id": "b1926929",
   "metadata": {},
   "source": [
    "### 0. Preprocess + EDA + Feature Selection\n",
    "### 1. Extract input and output columns\n",
    "### 2. Scale the values \n",
    "### 3. Train - Test - Split\n",
    "### 4. Train the model\n",
    "### 5. Evaluate the model/model selection\n",
    "### 6. Deploy the model"
   ]
  },
  {
   "cell_type": "code",
   "execution_count": 70,
   "id": "3e9426ef",
   "metadata": {},
   "outputs": [],
   "source": [
    "import matplotlib.pyplot as plt"
   ]
  },
  {
   "cell_type": "code",
   "execution_count": 72,
   "id": "5eaa86d8",
   "metadata": {},
   "outputs": [
    {
     "data": {
      "text/plain": [
       "<matplotlib.collections.PathCollection at 0x176de48e5d0>"
      ]
     },
     "execution_count": 72,
     "metadata": {},
     "output_type": "execute_result"
    },
    {
     "data": {
      "image/png": "[encoded data removed]",
      "text/plain": [
       "<Figure size 640x480 with 1 Axes>"
      ]
     },
     "metadata": {},
     "output_type": "display_data"
    }
   ],
   "source": [
    "plt.scatter(df['cgpa'], df['iq'], c = df['placed'])"
   ]
  },
  {
   "cell_type": "code",
   "execution_count": 76,
   "id": "0b225c25",
   "metadata": {},
   "outputs": [],
   "source": [
    "X = df.iloc[:, :2]\n",
    "Y = df.iloc[:, -1]"
   ]
  },
  {
   "cell_type": "code",
   "execution_count": 74,
   "id": "83cc4c0c",
   "metadata": {},
   "outputs": [
    {
     "data": {
      "text/html": [
       "<div>\n",
       "<style scoped>\n",
       "    .dataframe tbody tr th:only-of-type {\n",
       "        vertical-align: middle;\n",
       "    }\n",
       "\n",
       "    .dataframe tbody tr th {\n",
       "        vertical-align: top;\n",
       "    }\n",
       "\n",
       "    .dataframe thead th {\n",
       "        text-align: right;\n",
       "    }\n",
       "</style>\n",
       "<table border=\"1\" class=\"dataframe\">\n",
       "  <thead>\n",
       "    <tr style=\"text-align: right;\">\n",
       "      <th></th>\n",
       "      <th>cgpa</th>\n",
       "      <th>iq</th>\n",
       "    </tr>\n",
       "  </thead>\n",
       "  <tbody>\n",
       "    <tr>\n",
       "      <th>0</th>\n",
       "      <td>5.97</td>\n",
       "      <td>106</td>\n",
       "    </tr>\n",
       "    <tr>\n",
       "      <th>1</th>\n",
       "      <td>6.83</td>\n",
       "      <td>113</td>\n",
       "    </tr>\n",
       "    <tr>\n",
       "      <th>2</th>\n",
       "      <td>6.60</td>\n",
       "      <td>110</td>\n",
       "    </tr>\n",
       "    <tr>\n",
       "      <th>3</th>\n",
       "      <td>5.54</td>\n",
       "      <td>113</td>\n",
       "    </tr>\n",
       "    <tr>\n",
       "      <th>4</th>\n",
       "      <td>6.84</td>\n",
       "      <td>102</td>\n",
       "    </tr>\n",
       "    <tr>\n",
       "      <th>...</th>\n",
       "      <td>...</td>\n",
       "      <td>...</td>\n",
       "    </tr>\n",
       "    <tr>\n",
       "      <th>295</th>\n",
       "      <td>6.44</td>\n",
       "      <td>107</td>\n",
       "    </tr>\n",
       "    <tr>\n",
       "      <th>296</th>\n",
       "      <td>6.09</td>\n",
       "      <td>108</td>\n",
       "    </tr>\n",
       "    <tr>\n",
       "      <th>297</th>\n",
       "      <td>7.68</td>\n",
       "      <td>101</td>\n",
       "    </tr>\n",
       "    <tr>\n",
       "      <th>298</th>\n",
       "      <td>7.00</td>\n",
       "      <td>90</td>\n",
       "    </tr>\n",
       "    <tr>\n",
       "      <th>299</th>\n",
       "      <td>4.79</td>\n",
       "      <td>118</td>\n",
       "    </tr>\n",
       "  </tbody>\n",
       "</table>\n",
       "<p>300 rows × 2 columns</p>\n",
       "</div>"
      ],
      "text/plain": [
       "     cgpa   iq\n",
       "0    5.97  106\n",
       "1    6.83  113\n",
       "2    6.60  110\n",
       "3    5.54  113\n",
       "4    6.84  102\n",
       "..    ...  ...\n",
       "295  6.44  107\n",
       "296  6.09  108\n",
       "297  7.68  101\n",
       "298  7.00   90\n",
       "299  4.79  118\n",
       "\n",
       "[300 rows x 2 columns]"
      ]
     },
     "execution_count": 74,
     "metadata": {},
     "output_type": "execute_result"
    }
   ],
   "source": [
    "X"
   ]
  },
  {
   "cell_type": "code",
   "execution_count": 77,
   "id": "7b8908e9",
   "metadata": {},
   "outputs": [
    {
     "data": {
      "text/plain": [
       "0      0\n",
       "1      0\n",
       "2      0\n",
       "3      0\n",
       "4      0\n",
       "      ..\n",
       "295    0\n",
       "296    0\n",
       "297    1\n",
       "298    1\n",
       "299    0\n",
       "Name: placed, Length: 300, dtype: int64"
      ]
     },
     "execution_count": 77,
     "metadata": {},
     "output_type": "execute_result"
    }
   ],
   "source": [
    "Y"
   ]
  },
  {
   "cell_type": "code",
   "execution_count": 78,
   "id": "2dfef3bb",
   "metadata": {},
   "outputs": [],
   "source": [
    "from sklearn.model_selection import train_test_split"
   ]
  },
  {
   "cell_type": "code",
   "execution_count": 80,
   "id": "9eab0084",
   "metadata": {},
   "outputs": [
    {
     "data": {
      "text/plain": [
       "[     cgpa   iq\n",
       " 273  8.13   91\n",
       " 251  7.62   97\n",
       " 253  8.84   91\n",
       " 117  7.41  110\n",
       " 9    7.82   99\n",
       " ..    ...  ...\n",
       " 23   7.76   96\n",
       " 114  5.89  108\n",
       " 79   8.41   93\n",
       " 157  5.19  108\n",
       " 142  6.01  106\n",
       " \n",
       " [270 rows x 2 columns],\n",
       "      cgpa   iq\n",
       " 156  5.71  117\n",
       " 216  6.47  108\n",
       " 22   7.36  105\n",
       " 74   7.49   88\n",
       " 262  6.79  102\n",
       " 196  6.76  108\n",
       " 141  5.05  109\n",
       " 113  8.25   92\n",
       " 221  8.25   96\n",
       " 80   5.29  103\n",
       " 96   5.25  113\n",
       " 248  5.94  101\n",
       " 118  4.80  109\n",
       " 147  8.11   93\n",
       " 25   7.19   97\n",
       " 82   6.06  116\n",
       " 241  8.56  102\n",
       " 73   5.52  107\n",
       " 144  7.01   99\n",
       " 235  5.12  105\n",
       " 55   8.48   91\n",
       " 85   6.86  106\n",
       " 2    6.60  110\n",
       " 28   6.74  107\n",
       " 267  6.91  112\n",
       " 285  8.70   96\n",
       " 30   5.99  113\n",
       " 18   7.05   97\n",
       " 239  6.92   99\n",
       " 184  8.49   89,\n",
       " 273    1\n",
       " 251    1\n",
       " 253    1\n",
       " 117    0\n",
       " 9      0\n",
       "       ..\n",
       " 23     1\n",
       " 114    0\n",
       " 79     1\n",
       " 157    0\n",
       " 142    0\n",
       " Name: placed, Length: 270, dtype: int64,\n",
       " 156    0\n",
       " 216    0\n",
       " 22     1\n",
       " 74     1\n",
       " 262    1\n",
       " 196    1\n",
       " 141    0\n",
       " 113    1\n",
       " 221    1\n",
       " 80     0\n",
       " 96     0\n",
       " 248    1\n",
       " 118    0\n",
       " 147    1\n",
       " 25     1\n",
       " 82     0\n",
       " 241    1\n",
       " 73     0\n",
       " 144    1\n",
       " 235    0\n",
       " 55     1\n",
       " 85     0\n",
       " 2      0\n",
       " 28     0\n",
       " 267    0\n",
       " 285    1\n",
       " 30     0\n",
       " 18     1\n",
       " 239    1\n",
       " 184    1\n",
       " Name: placed, dtype: int64]"
      ]
     },
     "execution_count": 80,
     "metadata": {},
     "output_type": "execute_result"
    }
   ],
   "source": [
    "train_test_split(X,Y,test_size=0.1)"
   ]
  },
  {
   "cell_type": "code",
   "execution_count": 82,
   "id": "39ea736a",
   "metadata": {},
   "outputs": [],
   "source": [
    "x_train, x_test, y_train, y_test = train_test_split(X, Y, test_size = 0.1)"
   ]
  },
  {
   "cell_type": "code",
   "execution_count": 86,
   "id": "144085f5",
   "metadata": {},
   "outputs": [
    {
     "data": {
      "text/html": [
       "<div>\n",
       "<style scoped>\n",
       "    .dataframe tbody tr th:only-of-type {\n",
       "        vertical-align: middle;\n",
       "    }\n",
       "\n",
       "    .dataframe tbody tr th {\n",
       "        vertical-align: top;\n",
       "    }\n",
       "\n",
       "    .dataframe thead th {\n",
       "        text-align: right;\n",
       "    }\n",
       "</style>\n",
       "<table border=\"1\" class=\"dataframe\">\n",
       "  <thead>\n",
       "    <tr style=\"text-align: right;\">\n",
       "      <th></th>\n",
       "      <th>cgpa</th>\n",
       "      <th>iq</th>\n",
       "    </tr>\n",
       "  </thead>\n",
       "  <tbody>\n",
       "    <tr>\n",
       "      <th>184</th>\n",
       "      <td>8.49</td>\n",
       "      <td>89</td>\n",
       "    </tr>\n",
       "    <tr>\n",
       "      <th>95</th>\n",
       "      <td>7.43</td>\n",
       "      <td>88</td>\n",
       "    </tr>\n",
       "    <tr>\n",
       "      <th>181</th>\n",
       "      <td>6.17</td>\n",
       "      <td>115</td>\n",
       "    </tr>\n",
       "    <tr>\n",
       "      <th>122</th>\n",
       "      <td>7.71</td>\n",
       "      <td>109</td>\n",
       "    </tr>\n",
       "    <tr>\n",
       "      <th>123</th>\n",
       "      <td>6.26</td>\n",
       "      <td>97</td>\n",
       "    </tr>\n",
       "    <tr>\n",
       "      <th>...</th>\n",
       "      <td>...</td>\n",
       "      <td>...</td>\n",
       "    </tr>\n",
       "    <tr>\n",
       "      <th>251</th>\n",
       "      <td>7.62</td>\n",
       "      <td>97</td>\n",
       "    </tr>\n",
       "    <tr>\n",
       "      <th>136</th>\n",
       "      <td>7.54</td>\n",
       "      <td>98</td>\n",
       "    </tr>\n",
       "    <tr>\n",
       "      <th>274</th>\n",
       "      <td>5.49</td>\n",
       "      <td>110</td>\n",
       "    </tr>\n",
       "    <tr>\n",
       "      <th>23</th>\n",
       "      <td>7.76</td>\n",
       "      <td>96</td>\n",
       "    </tr>\n",
       "    <tr>\n",
       "      <th>26</th>\n",
       "      <td>7.73</td>\n",
       "      <td>90</td>\n",
       "    </tr>\n",
       "  </tbody>\n",
       "</table>\n",
       "<p>270 rows × 2 columns</p>\n",
       "</div>"
      ],
      "text/plain": [
       "     cgpa   iq\n",
       "184  8.49   89\n",
       "95   7.43   88\n",
       "181  6.17  115\n",
       "122  7.71  109\n",
       "123  6.26   97\n",
       "..    ...  ...\n",
       "251  7.62   97\n",
       "136  7.54   98\n",
       "274  5.49  110\n",
       "23   7.76   96\n",
       "26   7.73   90\n",
       "\n",
       "[270 rows x 2 columns]"
      ]
     },
     "execution_count": 86,
     "metadata": {},
     "output_type": "execute_result"
    }
   ],
   "source": [
    "x_train"
   ]
  },
  {
   "cell_type": "code",
   "execution_count": 87,
   "id": "de6dbc25",
   "metadata": {},
   "outputs": [
    {
     "data": {
      "text/plain": [
       "184    1\n",
       "95     1\n",
       "181    0\n",
       "122    0\n",
       "123    1\n",
       "      ..\n",
       "251    1\n",
       "136    1\n",
       "274    0\n",
       "23     1\n",
       "26     1\n",
       "Name: placed, Length: 270, dtype: int64"
      ]
     },
     "execution_count": 87,
     "metadata": {},
     "output_type": "execute_result"
    }
   ],
   "source": [
    "y_train"
   ]
  },
  {
   "cell_type": "code",
   "execution_count": 88,
   "id": "7001f205",
   "metadata": {},
   "outputs": [],
   "source": [
    "from sklearn.preprocessing import StandardScaler"
   ]
  },
  {
   "cell_type": "code",
   "execution_count": 89,
   "id": "614aa56d",
   "metadata": {},
   "outputs": [],
   "source": [
    "scaler = StandardScaler()"
   ]
  },
  {
   "cell_type": "code",
   "execution_count": 90,
   "id": "b2e905ad",
   "metadata": {},
   "outputs": [],
   "source": [
    "x_train = scaler.fit_transform(x_train)"
   ]
  },
  {
   "cell_type": "code",
   "execution_count": 91,
   "id": "84cba964",
   "metadata": {},
   "outputs": [
    {
     "data": {
      "text/plain": [
       "array([[ 1.71239832, -1.647681  ],\n",
       "       [ 0.63088359, -1.76821036],\n",
       "       [-0.65469052,  1.48608238],\n",
       "       [ 0.91656673,  0.76290621],\n",
       "       [-0.5628638 , -0.68344612],\n",
       "       [-1.53214587,  1.60661174],\n",
       "       [ 1.93686365, -1.76821036],\n",
       "       [ 0.18195295, -1.0450342 ],\n",
       "       [-0.80773506,  2.20925854],\n",
       "       [ 0.60027469,  0.28078877],\n",
       "       [-0.21596285,  1.00396494],\n",
       "       [ 0.07992326,  0.03973005],\n",
       "       [ 0.31459155, -1.76821036],\n",
       "       [-0.59347271,  1.24502366],\n",
       "       [-0.05271534,  0.64237685],\n",
       "       [ 0.03911138,  0.16025941],\n",
       "       [-1.07301226,  2.08872918],\n",
       "       [-1.72600228,  0.28078877],\n",
       "       [ 1.63077457, -1.16556356],\n",
       "       [ 2.06950224, -1.40662228],\n",
       "       [ 0.80433407,  0.03973005],\n",
       "       [ 1.3246855 , -1.16556356],\n",
       "       [-0.68529943,  0.88343557],\n",
       "       [ 0.43702718,  1.24502366],\n",
       "       [-1.23625976,  0.76290621],\n",
       "       [-0.15474503,  0.40131813],\n",
       "       [-1.00159147,  0.16025941],\n",
       "       [ 0.65128953,  0.64237685],\n",
       "       [ 0.56966578, -0.44238739],\n",
       "       [-1.71579931,  1.36555302],\n",
       "       [-1.61376962,  1.00396494],\n",
       "       [ 0.70230438, -0.08079931],\n",
       "       [-1.29747758,  1.24502366],\n",
       "       [-0.39961629,  1.48608238],\n",
       "       [-1.16483898,  1.00396494],\n",
       "       [ 0.01870544,  0.03973005],\n",
       "       [ 1.14103205, -0.92450484],\n",
       "       [ 0.45743312,  0.88343557],\n",
       "       [ 0.46763609, -1.40662228],\n",
       "       [-0.27718066,  0.76290621],\n",
       "       [ 0.43702718, -0.92450484],\n",
       "       [-1.87904682,  1.60661174],\n",
       "       [-0.828141  , -0.20132867],\n",
       "       [-0.67509646, -2.12979845],\n",
       "       [-0.17515097, -0.56291676],\n",
       "       [ 1.42671519, -1.647681  ],\n",
       "       [-1.6545815 ,  0.64237685],\n",
       "       [-0.05271534, -0.20132867],\n",
       "       [-1.56275478,  1.00396494],\n",
       "       [ 1.33488847,  0.03973005],\n",
       "       [ 0.31459155, -0.80397548],\n",
       "       [-0.91996772,  1.36555302],\n",
       "       [ 1.50833894, -1.647681  ],\n",
       "       [-0.81793803,  1.48608238],\n",
       "       [-1.29747758,  0.52184749],\n",
       "       [-0.37921035,  0.52184749],\n",
       "       [-0.01190346,  0.76290621],\n",
       "       [-0.36900738,  0.52184749],\n",
       "       [ 0.54925984, -1.16556356],\n",
       "       [-0.98118553,  1.36555302],\n",
       "       [ 0.94717564, -0.80397548],\n",
       "       [-0.55266083,  0.40131813],\n",
       "       [ 1.56955676, -0.56291676],\n",
       "       [ 0.40641827,  0.16025941],\n",
       "       [ 0.60027469, -0.32185803],\n",
       "       [ 0.71250735, -1.52715164],\n",
       "       [-1.79742307,  0.76290621],\n",
       "       [ 1.58996269, -1.40662228],\n",
       "       [-0.19555691, -0.80397548],\n",
       "       [-1.27707164,  1.7271411 ],\n",
       "       [ 0.53905687, -0.68344612],\n",
       "       [ 1.30427956, -0.68344612],\n",
       "       [-1.21585382,  0.40131813],\n",
       "       [ 0.30438858, -0.68344612],\n",
       "       [-0.81793803,  0.40131813],\n",
       "       [ 0.43702718, -0.92450484],\n",
       "       [ 0.68189844, -0.32185803],\n",
       "       [-0.78732912,  1.00396494],\n",
       "       [-0.08332425, -0.20132867],\n",
       "       [-1.16483898,  0.03973005],\n",
       "       [-0.91996772,  0.64237685],\n",
       "       [ 0.18195295,  1.60661174],\n",
       "       [-1.51173993,  0.03973005],\n",
       "       [ 0.25337373,  0.64237685],\n",
       "       [-0.06291831,  0.40131813],\n",
       "       [ 1.06961127, -0.20132867],\n",
       "       [-1.32808649,  1.1244943 ],\n",
       "       [ 1.42671519, -1.0450342 ],\n",
       "       [ 0.41662124, -1.0450342 ],\n",
       "       [-0.34860145,  0.64237685],\n",
       "       [-1.22605679,  0.88343557],\n",
       "       [ 0.01870544,  1.24502366],\n",
       "       [ 0.38601233, -0.68344612],\n",
       "       [-0.20575988,  0.28078877],\n",
       "       [ 1.65118051, -1.76821036],\n",
       "       [-1.07301226,  0.64237685],\n",
       "       [ 0.01870544,  1.00396494],\n",
       "       [-0.17515097,  1.00396494],\n",
       "       [ 0.2329678 , -0.80397548],\n",
       "       [-1.22605679,  0.64237685],\n",
       "       [-0.07312128,  0.52184749],\n",
       "       [-0.78732912,  0.16025941],\n",
       "       [ 0.74311625, -1.52715164],\n",
       "       [ 0.19215592, -0.32185803],\n",
       "       [ 1.76341317, -1.76821036],\n",
       "       [ 2.30417054, -2.25032781],\n",
       "       [-1.03220038,  0.52184749],\n",
       "       [ 1.21245284, -1.28609292],\n",
       "       [-0.06291831, -1.28609292],\n",
       "       [-0.71590834,  1.00396494],\n",
       "       [-1.07301226,  0.03973005],\n",
       "       [ 0.19215592, -1.52715164],\n",
       "       [ 0.06972029, -1.0450342 ],\n",
       "       [ 0.7941311 , -1.88873972],\n",
       "       [ 0.69210141, -1.76821036],\n",
       "       [ 1.78381911, -0.08079931],\n",
       "       [ 0.04931435,  0.40131813],\n",
       "       [ 1.38590331, -1.0450342 ],\n",
       "       [-0.25677472,  0.16025941],\n",
       "       [ 0.62068062, -0.56291676],\n",
       "       [ 1.70219535, -1.40662228],\n",
       "       [-0.32819551,  0.64237685],\n",
       "       [-1.31788352,  1.60661174],\n",
       "       [ 0.16154701, -0.20132867],\n",
       "       [-1.43011618,  1.48608238],\n",
       "       [-1.13423007,  1.84767046],\n",
       "       [-0.01190346,  0.03973005],\n",
       "       [-1.29747758,  1.36555302],\n",
       "       [-0.48124005,  0.28078877],\n",
       "       [-0.9913885 ,  0.28078877],\n",
       "       [ 1.69199239, -1.88873972],\n",
       "       [ 0.40641827, -0.80397548],\n",
       "       [ 0.19215592,  0.16025941],\n",
       "       [ 1.14103205, -1.0450342 ],\n",
       "       [ 2.53883883, -2.12979845],\n",
       "       [ 1.46752706, -1.28609292],\n",
       "       [-0.15474503,  0.28078877],\n",
       "       [ 1.01859642, -0.92450484],\n",
       "       [-0.164948  ,  0.40131813],\n",
       "       [-1.05260632,  1.1244943 ],\n",
       "       [-1.9504676 ,  0.88343557],\n",
       "       [ 0.86555188, -1.28609292],\n",
       "       [ 1.33488847, -1.28609292],\n",
       "       [-0.77712615,  0.40131813],\n",
       "       [-0.53225489, -0.08079931],\n",
       "       [ 2.2837646 , -1.0450342 ],\n",
       "       [-0.13433909,  0.88343557],\n",
       "       [-1.19544789,  0.40131813],\n",
       "       [-0.42002223,  0.28078877],\n",
       "       [ 0.22276483, -0.68344612],\n",
       "       [-2.06270027,  1.84767046],\n",
       "       [ 0.06972029, -1.28609292],\n",
       "       [ 0.34520046, -0.56291676],\n",
       "       [ 0.27377967, -0.92450484],\n",
       "       [-0.83834397,  1.24502366],\n",
       "       [ 0.27377967, -0.44238739],\n",
       "       [ 1.63077457, -0.32185803],\n",
       "       [ 0.40641827, -0.80397548],\n",
       "       [ 0.57986875, -0.44238739],\n",
       "       [ 0.33499749, -0.44238739],\n",
       "       [ 0.07992326, -1.76821036],\n",
       "       [ 0.74311625, -0.80397548],\n",
       "       [ 0.75331922, -1.28609292],\n",
       "       [-0.80773506,  0.52184749],\n",
       "       [-0.6955024 ,  0.52184749],\n",
       "       [ 1.34509143, -1.40662228],\n",
       "       [ 0.83494298, -1.40662228],\n",
       "       [-0.21596285,  0.88343557],\n",
       "       [-0.71590834,  0.40131813],\n",
       "       [ 2.05929928, -1.16556356],\n",
       "       [-0.97098256, -0.44238739],\n",
       "       [-1.55255181,  0.03973005],\n",
       "       [-1.34849242,  0.88343557],\n",
       "       [ 0.1003292 ,  1.1244943 ],\n",
       "       [ 0.75331922, -0.32185803],\n",
       "       [-0.02210643, -1.28609292],\n",
       "       [ 0.34520046,  0.40131813],\n",
       "       [-1.03220038,  1.60661174],\n",
       "       [-1.31788352,  0.52184749],\n",
       "       [-0.94037366,  0.64237685],\n",
       "       [ 0.49824499, -0.20132867],\n",
       "       [ 0.50844796,  0.16025941],\n",
       "       [-0.32819551,  0.76290621],\n",
       "       [ 1.58996269,  0.52184749],\n",
       "       [-1.18524492,  1.60661174],\n",
       "       [ 0.72271032,  0.40131813],\n",
       "       [-0.55266083,  0.52184749],\n",
       "       [-1.22605679,  0.64237685],\n",
       "       [ 0.85534891, -0.56291676],\n",
       "       [-1.1240271 ,  1.7271411 ],\n",
       "       [-1.29747758,  1.84767046],\n",
       "       [-0.76692318,  1.60661174],\n",
       "       [ 1.56955676, -0.80397548],\n",
       "       [ 0.04931435,  0.88343557],\n",
       "       [ 1.47773003, -1.28609292],\n",
       "       [ 1.3246855 , -0.92450484],\n",
       "       [-0.9913885 ,  1.1244943 ],\n",
       "       [ 0.85534891, -1.0450342 ],\n",
       "       [-2.0524973 ,  0.76290621],\n",
       "       [-1.71579931,  1.36555302],\n",
       "       [-1.06280929,  1.1244943 ],\n",
       "       [ 0.51865093, -0.20132867],\n",
       "       [-1.16483898,  0.76290621],\n",
       "       [-2.25655668,  1.60661174],\n",
       "       [ 1.33488847, -1.0450342 ],\n",
       "       [-0.55266083,  0.88343557],\n",
       "       [-0.88935881,  0.64237685],\n",
       "       [ 0.60027469,  1.00396494],\n",
       "       [-0.50164598,  0.52184749],\n",
       "       [-1.27707164,  0.52184749],\n",
       "       [-1.6545815 ,  1.60661174],\n",
       "       [ 0.25337373, -1.16556356],\n",
       "       [-0.48124005,  0.28078877],\n",
       "       [-1.90965573,  0.16025941],\n",
       "       [ 0.24317076, -0.08079931],\n",
       "       [ 0.11053217, -0.44238739],\n",
       "       [-0.48124005, -0.44238739],\n",
       "       [ 0.17174998,  0.28078877],\n",
       "       [-1.32808649,  1.36555302],\n",
       "       [ 1.46752706, -0.80397548],\n",
       "       [ 0.20235889, -0.44238739],\n",
       "       [ 1.28387362, -1.28609292],\n",
       "       [ 0.07992326,  0.16025941],\n",
       "       [ 0.62068062, -1.28609292],\n",
       "       [ 0.24317076, -0.80397548],\n",
       "       [-1.06280929,  0.28078877],\n",
       "       [-0.48124005,  1.1244943 ],\n",
       "       [ 0.88595782, -0.20132867],\n",
       "       [ 0.31459155,  0.52184749],\n",
       "       [-1.16483898,  1.1244943 ],\n",
       "       [-1.00159147,  0.88343557],\n",
       "       [ 1.74300723, -0.44238739],\n",
       "       [-1.00159147,  0.40131813],\n",
       "       [ 0.84514595, -0.08079931],\n",
       "       [-0.97098256,  0.28078877],\n",
       "       [ 0.72271032,  0.88343557],\n",
       "       [-0.58326974,  1.00396494],\n",
       "       [-0.24657175,  0.64237685],\n",
       "       [ 0.38601233, -0.56291676],\n",
       "       [-0.48124005,  0.28078877],\n",
       "       [-0.27718066, -0.68344612],\n",
       "       [-0.37921035,  1.36555302],\n",
       "       [-1.02199741,  1.48608238],\n",
       "       [ 0.29418561, -0.68344612],\n",
       "       [ 1.18184393, -0.80397548],\n",
       "       [ 1.09001721, -0.68344612],\n",
       "       [ 0.2635767 , -1.0450342 ],\n",
       "       [-0.02210643, -0.08079931],\n",
       "       [ 0.85534891, -1.16556356],\n",
       "       [ 0.80433407, -0.56291676],\n",
       "       [-0.23636879,  1.24502366],\n",
       "       [ 0.02890841, -0.08079931],\n",
       "       [-0.12413612,  0.16025941],\n",
       "       [ 1.24306174, -1.28609292],\n",
       "       [ 0.61047765,  0.88343557],\n",
       "       [ 1.29407659, -1.0450342 ],\n",
       "       [-0.06291831,  1.00396494],\n",
       "       [ 0.02890841, -0.80397548],\n",
       "       [-1.33828945,  1.1244943 ],\n",
       "       [ 0.03911138, -0.08079931],\n",
       "       [ 0.02890841, -0.92450484],\n",
       "       [ 1.92666068, -0.80397548],\n",
       "       [-0.12413612, -1.16556356],\n",
       "       [ 1.03900236, -0.68344612],\n",
       "       [ 0.51865093, -0.68344612],\n",
       "       [ 0.82474001, -0.68344612],\n",
       "       [ 0.74311625, -0.56291676],\n",
       "       [-1.34849242,  0.88343557],\n",
       "       [ 0.96758158, -0.80397548],\n",
       "       [ 0.93697267, -1.52715164]])"
      ]
     },
     "execution_count": 91,
     "metadata": {},
     "output_type": "execute_result"
    }
   ],
   "source": [
    "x_train"
   ]
  },
  {
   "cell_type": "code",
   "execution_count": 97,
   "id": "6f02d3f3",
   "metadata": {},
   "outputs": [],
   "source": [
    "x_test = scaler.fit_transform(x_test)"
   ]
  },
  {
   "cell_type": "code",
   "execution_count": 98,
   "id": "f2786a44",
   "metadata": {},
   "outputs": [
    {
     "data": {
      "text/plain": [
       "array([[-1.00205256, -0.0794051 ],\n",
       "       [ 0.22331457, -0.55583571],\n",
       "       [ 1.15092894, -0.31762041],\n",
       "       [ 0.77301198, -0.79405102],\n",
       "       [ 1.32270938, -1.8660199 ],\n",
       "       [-0.83027212,  0.75434847],\n",
       "       [ 0.26912269, -0.55583571],\n",
       "       [-1.34561344,  0.99256378],\n",
       "       [ 2.27322781, -2.22334286],\n",
       "       [-1.79224258,  1.34988674],\n",
       "       [ 1.01350459,  0.1588102 ],\n",
       "       [-0.30347878,  0.63524082],\n",
       "       [ 1.40287359, -1.50869694],\n",
       "       [-0.4294511 ,  0.03970255],\n",
       "       [ 1.21964112, -1.27048163],\n",
       "       [ 0.17750645,  0.39702551],\n",
       "       [-1.20818909,  1.46899439],\n",
       "       [ 0.41799907,  0.51613316],\n",
       "       [-0.96769647,  0.51613316],\n",
       "       [-0.28057472,  0.99256378],\n",
       "       [ 0.47525921, -1.50869694],\n",
       "       [-0.32638283, -1.38958929],\n",
       "       [ 0.08589022,  0.39702551],\n",
       "       [-0.40654704,  0.87345612],\n",
       "       [ 1.16238097, -0.0794051 ],\n",
       "       [-0.96769647,  1.7072097 ],\n",
       "       [-1.68917432,  0.27791786],\n",
       "       [ 0.62413559,  0.39702551],\n",
       "       [-0.91043633,  0.63524082],\n",
       "       [-0.13169834,  0.03970255]])"
      ]
     },
     "execution_count": 98,
     "metadata": {},
     "output_type": "execute_result"
    }
   ],
   "source": [
    "x_test"
   ]
  },
  {
   "cell_type": "code",
   "execution_count": 99,
   "id": "e7ee1c5a",
   "metadata": {},
   "outputs": [],
   "source": [
    "from sklearn.linear_model import LogisticRegression"
   ]
  },
  {
   "cell_type": "code",
   "execution_count": 100,
   "id": "caa67d43",
   "metadata": {},
   "outputs": [],
   "source": [
    "clf = LogisticRegression()"
   ]
  },
  {
   "cell_type": "code",
   "execution_count": 101,
   "id": "df5477c0",
   "metadata": {},
   "outputs": [
    {
     "data": {
      "text/html": [
       "<style>#sk-container-id-1 {color: black;}#sk-container-id-1 pre{padding: 0;}#sk-container-id-1 div.sk-toggleable {background-color: white;}#sk-container-id-1 label.sk-toggleable__label {cursor: pointer;display: block;width: 100%;margin-bottom: 0;padding: 0.3em;box-sizing: border-box;text-align: center;}#sk-container-id-1 label.sk-toggleable__label-arrow:before {content: \"▸\";float: left;margin-right: 0.25em;color: #696969;}#sk-container-id-1 label.sk-toggleable__label-arrow:hover:before {color: black;}#sk-container-id-1 div.sk-estimator:hover label.sk-toggleable__label-arrow:before {color: black;}#sk-container-id-1 div.sk-toggleable__content {max-height: 0;max-width: 0;overflow: hidden;text-align: left;background-color: #f0f8ff;}#sk-container-id-1 div.sk-toggleable__content pre {margin: 0.2em;color: black;border-radius: 0.25em;background-color: #f0f8ff;}#sk-container-id-1 input.sk-toggleable__control:checked~div.sk-toggleable__content {max-height: 200px;max-width: 100%;overflow: auto;}#sk-container-id-1 input.sk-toggleable__control:checked~label.sk-toggleable__label-arrow:before {content: \"▾\";}#sk-container-id-1 div.sk-estimator input.sk-toggleable__control:checked~label.sk-toggleable__label {background-color: #d4ebff;}#sk-container-id-1 div.sk-label input.sk-toggleable__control:checked~label.sk-toggleable__label {background-color: #d4ebff;}#sk-container-id-1 input.sk-hidden--visually {border: 0;clip: rect(1px 1px 1px 1px);clip: rect(1px, 1px, 1px, 1px);height: 1px;margin: -1px;overflow: hidden;padding: 0;position: absolute;width: 1px;}#sk-container-id-1 div.sk-estimator {font-family: monospace;background-color: #f0f8ff;border: 1px dotted black;border-radius: 0.25em;box-sizing: border-box;margin-bottom: 0.5em;}#sk-container-id-1 div.sk-estimator:hover {background-color: #d4ebff;}#sk-container-id-1 div.sk-parallel-item::after {content: \"\";width: 100%;border-bottom: 1px solid gray;flex-grow: 1;}#sk-container-id-1 div.sk-label:hover label.sk-toggleable__label {background-color: #d4ebff;}#sk-container-id-1 div.sk-serial::before {content: \"\";position: absolute;border-left: 1px solid gray;box-sizing: border-box;top: 0;bottom: 0;left: 50%;z-index: 0;}#sk-container-id-1 div.sk-serial {display: flex;flex-direction: column;align-items: center;background-color: white;padding-right: 0.2em;padding-left: 0.2em;position: relative;}#sk-container-id-1 div.sk-item {position: relative;z-index: 1;}#sk-container-id-1 div.sk-parallel {display: flex;align-items: stretch;justify-content: center;background-color: white;position: relative;}#sk-container-id-1 div.sk-item::before, #sk-container-id-1 div.sk-parallel-item::before {content: \"\";position: absolute;border-left: 1px solid gray;box-sizing: border-box;top: 0;bottom: 0;left: 50%;z-index: -1;}#sk-container-id-1 div.sk-parallel-item {display: flex;flex-direction: column;z-index: 1;position: relative;background-color: white;}#sk-container-id-1 div.sk-parallel-item:first-child::after {align-self: flex-end;width: 50%;}#sk-container-id-1 div.sk-parallel-item:last-child::after {align-self: flex-start;width: 50%;}#sk-container-id-1 div.sk-parallel-item:only-child::after {width: 0;}#sk-container-id-1 div.sk-dashed-wrapped {border: 1px dashed gray;margin: 0 0.4em 0.5em 0.4em;box-sizing: border-box;padding-bottom: 0.4em;background-color: white;}#sk-container-id-1 div.sk-label label {font-family: monospace;font-weight: bold;display: inline-block;line-height: 1.2em;}#sk-container-id-1 div.sk-label-container {text-align: center;}#sk-container-id-1 div.sk-container {/* jupyter's `normalize.less` sets `[hidden] { display: none; }` but bootstrap.min.css set `[hidden] { display: none !important; }` so we also need the `!important` here to be able to override the default hidden behavior on the sphinx rendered scikit-learn.org. See: https://github.com/scikit-learn/scikit-learn/issues/21755 */display: inline-block !important;position: relative;}#sk-container-id-1 div.sk-text-repr-fallback {display: none;}</style><div id=\"sk-container-id-1\" class=\"sk-top-container\"><div class=\"sk-text-repr-fallback\"><pre>LogisticRegression()</pre><b>In a Jupyter environment, please rerun this cell to show the HTML representation or trust the notebook. <br />On GitHub, the HTML representation is unable to render, please try loading this page with nbviewer.org.</b></div><div class=\"sk-container\" hidden><div class=\"sk-item\"><div class=\"sk-estimator sk-toggleable\"><input class=\"sk-toggleable__control sk-hidden--visually\" id=\"sk-estimator-id-1\" type=\"checkbox\" checked><label for=\"sk-estimator-id-1\" class=\"sk-toggleable__label sk-toggleable__label-arrow\">LogisticRegression</label><div class=\"sk-toggleable__content\"><pre>LogisticRegression()</pre></div></div></div></div></div>"
      ],
      "text/plain": [
       "LogisticRegression()"
      ]
     },
     "execution_count": 101,
     "metadata": {},
     "output_type": "execute_result"
    }
   ],
   "source": [
    "# model training\n",
    "clf.fit(x_train, y_train)"
   ]
  },
  {
   "cell_type": "code",
   "execution_count": 104,
   "id": "c703cee3",
   "metadata": {},
   "outputs": [],
   "source": [
    "y_pred = clf.predict(x_test)"
   ]
  },
  {
   "cell_type": "code",
   "execution_count": 103,
   "id": "38b5d049",
   "metadata": {},
   "outputs": [
    {
     "data": {
      "text/plain": [
       "248    1\n",
       "84     1\n",
       "9      0\n",
       "240    1\n",
       "7      1\n",
       "296    0\n",
       "18     1\n",
       "211    0\n",
       "138    1\n",
       "96     0\n",
       "58     1\n",
       "204    0\n",
       "180    1\n",
       "213    0\n",
       "15     1\n",
       "233    1\n",
       "258    0\n",
       "294    0\n",
       "0      0\n",
       "32     0\n",
       "220    1\n",
       "249    1\n",
       "107    1\n",
       "57     0\n",
       "291    1\n",
       "206    0\n",
       "191    0\n",
       "22     1\n",
       "164    0\n",
       "205    1\n",
       "Name: placed, dtype: int64"
      ]
     },
     "execution_count": 103,
     "metadata": {},
     "output_type": "execute_result"
    }
   ],
   "source": [
    "y_test"
   ]
  },
  {
   "cell_type": "code",
   "execution_count": 105,
   "id": "3bb5bc72",
   "metadata": {},
   "outputs": [],
   "source": [
    "from sklearn.metrics import accuracy_score"
   ]
  },
  {
   "cell_type": "code",
   "execution_count": 106,
   "id": "95d83454",
   "metadata": {},
   "outputs": [
    {
     "data": {
      "text/plain": [
       "0.8"
      ]
     },
     "execution_count": 106,
     "metadata": {},
     "output_type": "execute_result"
    }
   ],
   "source": [
    "accuracy_score(y_test, y_pred)"
   ]
  },
  {
   "cell_type": "code",
   "execution_count": 108,
   "id": "aa82027b",
   "metadata": {},
   "outputs": [],
   "source": [
    "import pickle"
   ]
  },
  {
   "cell_type": "code",
   "execution_count": 109,
   "id": "de8bd186",
   "metadata": {},
   "outputs": [],
   "source": [
    "pickle.dump(clf, open('placement.csv', \"wb\"))"
   ]
  },
  {
   "cell_type": "code",
   "execution_count": null,
   "id": "b1f757de",
   "metadata": {},
   "outputs": [],
   "source": []
  }
 ],
 "metadata": {
  "kernelspec": {
   "display_name": "Python 3 (ipykernel)",
   "language": "python",
   "name": "python3"
  },
  "language_info": {
   "codemirror_mode": {
    "name": "ipython",
    "version": 3
   },
   "file_extension": ".py",
   "mimetype": "text/x-python",
   "name": "python",
   "nbconvert_exporter": "python",
   "pygments_lexer": "ipython3",
   "version": "3.11.4"
  }
 },
 "nbformat": 4,
 "nbformat_minor": 5
}
